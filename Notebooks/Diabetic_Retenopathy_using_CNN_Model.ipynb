{
  "nbformat": 4,
  "nbformat_minor": 0,
  "metadata": {
    "colab": {
      "provenance": []
    },
    "kernelspec": {
      "name": "python3",
      "display_name": "Python 3"
    },
    "language_info": {
      "name": "python"
    }
  },
  "cells": [
    {
      "cell_type": "code",
      "source": [
        "!pip install datasets"
      ],
      "metadata": {
        "colab": {
          "base_uri": "https://localhost:8080/"
        },
        "id": "B__xUXkt5xK3",
        "outputId": "773b2d7b-efba-4363-b434-387196192cb1"
      },
      "execution_count": 1,
      "outputs": [
        {
          "output_type": "stream",
          "name": "stdout",
          "text": [
            "Collecting datasets\n",
            "  Downloading datasets-3.2.0-py3-none-any.whl.metadata (20 kB)\n",
            "Requirement already satisfied: filelock in /usr/local/lib/python3.10/dist-packages (from datasets) (3.16.1)\n",
            "Requirement already satisfied: numpy>=1.17 in /usr/local/lib/python3.10/dist-packages (from datasets) (1.26.4)\n",
            "Requirement already satisfied: pyarrow>=15.0.0 in /usr/local/lib/python3.10/dist-packages (from datasets) (17.0.0)\n",
            "Collecting dill<0.3.9,>=0.3.0 (from datasets)\n",
            "  Downloading dill-0.3.8-py3-none-any.whl.metadata (10 kB)\n",
            "Requirement already satisfied: pandas in /usr/local/lib/python3.10/dist-packages (from datasets) (2.2.2)\n",
            "Requirement already satisfied: requests>=2.32.2 in /usr/local/lib/python3.10/dist-packages (from datasets) (2.32.3)\n",
            "Requirement already satisfied: tqdm>=4.66.3 in /usr/local/lib/python3.10/dist-packages (from datasets) (4.67.1)\n",
            "Collecting xxhash (from datasets)\n",
            "  Downloading xxhash-3.5.0-cp310-cp310-manylinux_2_17_x86_64.manylinux2014_x86_64.whl.metadata (12 kB)\n",
            "Collecting multiprocess<0.70.17 (from datasets)\n",
            "  Downloading multiprocess-0.70.16-py310-none-any.whl.metadata (7.2 kB)\n",
            "Collecting fsspec<=2024.9.0,>=2023.1.0 (from fsspec[http]<=2024.9.0,>=2023.1.0->datasets)\n",
            "  Downloading fsspec-2024.9.0-py3-none-any.whl.metadata (11 kB)\n",
            "Requirement already satisfied: aiohttp in /usr/local/lib/python3.10/dist-packages (from datasets) (3.11.10)\n",
            "Requirement already satisfied: huggingface-hub>=0.23.0 in /usr/local/lib/python3.10/dist-packages (from datasets) (0.27.0)\n",
            "Requirement already satisfied: packaging in /usr/local/lib/python3.10/dist-packages (from datasets) (24.2)\n",
            "Requirement already satisfied: pyyaml>=5.1 in /usr/local/lib/python3.10/dist-packages (from datasets) (6.0.2)\n",
            "Requirement already satisfied: aiohappyeyeballs>=2.3.0 in /usr/local/lib/python3.10/dist-packages (from aiohttp->datasets) (2.4.4)\n",
            "Requirement already satisfied: aiosignal>=1.1.2 in /usr/local/lib/python3.10/dist-packages (from aiohttp->datasets) (1.3.2)\n",
            "Requirement already satisfied: async-timeout<6.0,>=4.0 in /usr/local/lib/python3.10/dist-packages (from aiohttp->datasets) (4.0.3)\n",
            "Requirement already satisfied: attrs>=17.3.0 in /usr/local/lib/python3.10/dist-packages (from aiohttp->datasets) (24.3.0)\n",
            "Requirement already satisfied: frozenlist>=1.1.1 in /usr/local/lib/python3.10/dist-packages (from aiohttp->datasets) (1.5.0)\n",
            "Requirement already satisfied: multidict<7.0,>=4.5 in /usr/local/lib/python3.10/dist-packages (from aiohttp->datasets) (6.1.0)\n",
            "Requirement already satisfied: propcache>=0.2.0 in /usr/local/lib/python3.10/dist-packages (from aiohttp->datasets) (0.2.1)\n",
            "Requirement already satisfied: yarl<2.0,>=1.17.0 in /usr/local/lib/python3.10/dist-packages (from aiohttp->datasets) (1.18.3)\n",
            "Requirement already satisfied: typing-extensions>=3.7.4.3 in /usr/local/lib/python3.10/dist-packages (from huggingface-hub>=0.23.0->datasets) (4.12.2)\n",
            "Requirement already satisfied: charset-normalizer<4,>=2 in /usr/local/lib/python3.10/dist-packages (from requests>=2.32.2->datasets) (3.4.0)\n",
            "Requirement already satisfied: idna<4,>=2.5 in /usr/local/lib/python3.10/dist-packages (from requests>=2.32.2->datasets) (3.10)\n",
            "Requirement already satisfied: urllib3<3,>=1.21.1 in /usr/local/lib/python3.10/dist-packages (from requests>=2.32.2->datasets) (2.2.3)\n",
            "Requirement already satisfied: certifi>=2017.4.17 in /usr/local/lib/python3.10/dist-packages (from requests>=2.32.2->datasets) (2024.12.14)\n",
            "Requirement already satisfied: python-dateutil>=2.8.2 in /usr/local/lib/python3.10/dist-packages (from pandas->datasets) (2.8.2)\n",
            "Requirement already satisfied: pytz>=2020.1 in /usr/local/lib/python3.10/dist-packages (from pandas->datasets) (2024.2)\n",
            "Requirement already satisfied: tzdata>=2022.7 in /usr/local/lib/python3.10/dist-packages (from pandas->datasets) (2024.2)\n",
            "Requirement already satisfied: six>=1.5 in /usr/local/lib/python3.10/dist-packages (from python-dateutil>=2.8.2->pandas->datasets) (1.17.0)\n",
            "Downloading datasets-3.2.0-py3-none-any.whl (480 kB)\n",
            "\u001b[2K   \u001b[90m━━━━━━━━━━━━━━━━━━━━━━━━━━━━━━━━━━━━━━━━\u001b[0m \u001b[32m480.6/480.6 kB\u001b[0m \u001b[31m8.0 MB/s\u001b[0m eta \u001b[36m0:00:00\u001b[0m\n",
            "\u001b[?25hDownloading dill-0.3.8-py3-none-any.whl (116 kB)\n",
            "\u001b[2K   \u001b[90m━━━━━━━━━━━━━━━━━━━━━━━━━━━━━━━━━━━━━━━━\u001b[0m \u001b[32m116.3/116.3 kB\u001b[0m \u001b[31m4.0 MB/s\u001b[0m eta \u001b[36m0:00:00\u001b[0m\n",
            "\u001b[?25hDownloading fsspec-2024.9.0-py3-none-any.whl (179 kB)\n",
            "\u001b[2K   \u001b[90m━━━━━━━━━━━━━━━━━━━━━━━━━━━━━━━━━━━━━━━━\u001b[0m \u001b[32m179.3/179.3 kB\u001b[0m \u001b[31m6.8 MB/s\u001b[0m eta \u001b[36m0:00:00\u001b[0m\n",
            "\u001b[?25hDownloading multiprocess-0.70.16-py310-none-any.whl (134 kB)\n",
            "\u001b[2K   \u001b[90m━━━━━━━━━━━━━━━━━━━━━━━━━━━━━━━━━━━━━━━━\u001b[0m \u001b[32m134.8/134.8 kB\u001b[0m \u001b[31m7.7 MB/s\u001b[0m eta \u001b[36m0:00:00\u001b[0m\n",
            "\u001b[?25hDownloading xxhash-3.5.0-cp310-cp310-manylinux_2_17_x86_64.manylinux2014_x86_64.whl (194 kB)\n",
            "\u001b[2K   \u001b[90m━━━━━━━━━━━━━━━━━━━━━━━━━━━━━━━━━━━━━━━━\u001b[0m \u001b[32m194.1/194.1 kB\u001b[0m \u001b[31m7.2 MB/s\u001b[0m eta \u001b[36m0:00:00\u001b[0m\n",
            "\u001b[?25hInstalling collected packages: xxhash, fsspec, dill, multiprocess, datasets\n",
            "  Attempting uninstall: fsspec\n",
            "    Found existing installation: fsspec 2024.10.0\n",
            "    Uninstalling fsspec-2024.10.0:\n",
            "      Successfully uninstalled fsspec-2024.10.0\n",
            "\u001b[31mERROR: pip's dependency resolver does not currently take into account all the packages that are installed. This behaviour is the source of the following dependency conflicts.\n",
            "gcsfs 2024.10.0 requires fsspec==2024.10.0, but you have fsspec 2024.9.0 which is incompatible.\u001b[0m\u001b[31m\n",
            "\u001b[0mSuccessfully installed datasets-3.2.0 dill-0.3.8 fsspec-2024.9.0 multiprocess-0.70.16 xxhash-3.5.0\n"
          ]
        }
      ]
    },
    {
      "cell_type": "code",
      "execution_count": 19,
      "metadata": {
        "id": "0eFeDmzi5LPQ"
      },
      "outputs": [],
      "source": [
        "from datasets import load_dataset\n",
        "\n",
        "ds = load_dataset(\"youssefedweqd/Diabetic_Retinopathy_Detection\")"
      ]
    },
    {
      "cell_type": "code",
      "source": [
        "print(ds)"
      ],
      "metadata": {
        "colab": {
          "base_uri": "https://localhost:8080/"
        },
        "id": "2l9U7bCv5zqV",
        "outputId": "608bf843-e5b6-40da-86f4-2cae810ea579"
      },
      "execution_count": 20,
      "outputs": [
        {
          "output_type": "stream",
          "name": "stdout",
          "text": [
            "DatasetDict({\n",
            "    train: Dataset({\n",
            "        features: ['image', 'label'],\n",
            "        num_rows: 25290\n",
            "    })\n",
            "    validation: Dataset({\n",
            "        features: ['image', 'label'],\n",
            "        num_rows: 2810\n",
            "    })\n",
            "    test: Dataset({\n",
            "        features: ['image', 'label'],\n",
            "        num_rows: 7026\n",
            "    })\n",
            "})\n"
          ]
        }
      ]
    },
    {
      "cell_type": "code",
      "source": [
        "# Accessing the train split\n",
        "train_data = ds['train']\n",
        "\n",
        "# Accessing the test split\n",
        "test_data = ds['test']\n",
        "\n",
        "# Accessing the validation split (if available)\n",
        "val_data = ds['validation']\n"
      ],
      "metadata": {
        "id": "uFqWCwH06LEH"
      },
      "execution_count": 21,
      "outputs": []
    },
    {
      "cell_type": "code",
      "source": [
        "# Print the first few rows of the train dataset\n",
        "print(train_data[:5])\n"
      ],
      "metadata": {
        "colab": {
          "base_uri": "https://localhost:8080/"
        },
        "id": "qa-F-YEO6gzi",
        "outputId": "7e18482d-fb7c-48d2-d8f1-f0d9722dc787"
      },
      "execution_count": 22,
      "outputs": [
        {
          "output_type": "stream",
          "name": "stdout",
          "text": [
            "{'image': [<PIL.JpegImagePlugin.JpegImageFile image mode=RGB size=1024x683 at 0x79E33C628D30>, <PIL.JpegImagePlugin.JpegImageFile image mode=RGB size=1024x683 at 0x79E39C28C850>, <PIL.JpegImagePlugin.JpegImageFile image mode=RGB size=1024x683 at 0x79E39C1ECFA0>, <PIL.JpegImagePlugin.JpegImageFile image mode=RGB size=1024x683 at 0x79E33C62BEE0>, <PIL.JpegImagePlugin.JpegImageFile image mode=RGB size=1024x683 at 0x79E33C629210>], 'label': [0, 0, 0, 0, 0]}\n"
          ]
        }
      ]
    },
    {
      "cell_type": "code",
      "source": [
        "\n",
        "print(ds[\"train\"][0])  # Print the first example from the train set\n"
      ],
      "metadata": {
        "colab": {
          "base_uri": "https://localhost:8080/"
        },
        "id": "bQZ0GI5f6krD",
        "outputId": "f97837a6-31e7-4ecf-8631-da93d7f58acd"
      },
      "execution_count": 23,
      "outputs": [
        {
          "output_type": "stream",
          "name": "stdout",
          "text": [
            "{'image': <PIL.JpegImagePlugin.JpegImageFile image mode=RGB size=1024x683 at 0x79E33C628FD0>, 'label': 0}\n"
          ]
        }
      ]
    },
    {
      "cell_type": "code",
      "source": [
        "import tensorflow as tf\n",
        "\n",
        "def preprocess_data(example):\n",
        "    # Normalize the image\n",
        "    image = example['image'].convert('RGB')  # Ensure the image is RGB\n",
        "    image = tf.image.resize(image, (224, 224))  # Resize the image\n",
        "    image = tf.cast(image, tf.float32) / 255.0  # Normalize pixel values\n",
        "\n",
        "    # Ensure the label is an integer\n",
        "    label = tf.cast(example['label'], tf.int32)\n",
        "\n",
        "    return image, label\n"
      ],
      "metadata": {
        "id": "o-MSJnJq6qbd"
      },
      "execution_count": 24,
      "outputs": []
    },
    {
      "cell_type": "code",
      "source": [
        "import tensorflow as tf\n",
        "\n",
        "# Convert the Hugging Face dataset to a TensorFlow dataset\n",
        "tf_train_dataset = ds[\"train\"].to_tf_dataset(\n",
        "    columns=[\"image\"],  # Columns of the dataset to use as features\n",
        "    label_cols=\"label\",  # Column to use as the label\n",
        "    shuffle=True,  # Shuffle the data\n",
        "    batch_size=32,  # Batch size\n",
        "    collate_fn=lambda batch: {\n",
        "        \"image\": tf.image.resize(tf.stack([item['image'] for item in batch]), (224, 224)) / 255.0,  # Process images\n",
        "        \"label\": tf.convert_to_tensor([item['label'] for item in batch], dtype=tf.int32)  # Process labels\n",
        "    }\n",
        ")\n",
        "\n",
        "tf_val_dataset = ds[\"validation\"].to_tf_dataset(\n",
        "    columns=[\"image\"],\n",
        "    label_cols=\"label\",\n",
        "    shuffle=False,\n",
        "    batch_size=32,\n",
        "    collate_fn=lambda batch: {\n",
        "        \"image\": tf.image.resize(tf.stack([item['image'] for item in batch]), (224, 224)) / 255.0,\n",
        "        \"label\": tf.convert_to_tensor([item['label'] for item in batch], dtype=tf.int32)\n",
        "    }\n",
        ")\n"
      ],
      "metadata": {
        "id": "ucH2Ty307Mcd"
      },
      "execution_count": 25,
      "outputs": []
    },
    {
      "cell_type": "markdown",
      "source": [
        "#CNN Model"
      ],
      "metadata": {
        "id": "8e638AiHXALq"
      }
    },
    {
      "cell_type": "code",
      "source": [
        "import tensorflow as tf\n",
        "\n",
        "# Define a simple CNN model\n",
        "model = tf.keras.Sequential([\n",
        "    tf.keras.layers.InputLayer(shape=(224, 224, 3)),  # Input shape after resizing\n",
        "    tf.keras.layers.Conv2D(32, (3, 3), activation='relu'),\n",
        "    tf.keras.layers.MaxPooling2D((2, 2)),\n",
        "    tf.keras.layers.Conv2D(64, (3, 3), activation='relu'),\n",
        "    tf.keras.layers.MaxPooling2D((2, 2)),\n",
        "    tf.keras.layers.Conv2D(128, (3, 3), activation='relu'),\n",
        "    tf.keras.layers.MaxPooling2D((2, 2)),\n",
        "    tf.keras.layers.Flatten(),\n",
        "    tf.keras.layers.Dense(64, activation='relu'),\n",
        "    tf.keras.layers.Dense(5, activation='softmax')  # Assuming 5 classes, adjust as needed\n",
        "])\n",
        "\n",
        "# Compile the model\n",
        "model.compile(optimizer='adam', loss='sparse_categorical_crossentropy', metrics=['accuracy'])\n"
      ],
      "metadata": {
        "id": "Xf6GcAbW7Sku"
      },
      "execution_count": 26,
      "outputs": []
    },
    {
      "cell_type": "code",
      "source": [
        "# Check the first sample in the training dataset\n",
        "print(ds[\"train\"][0])\n"
      ],
      "metadata": {
        "colab": {
          "base_uri": "https://localhost:8080/"
        },
        "id": "hHlnRSGK8VDw",
        "outputId": "864162a2-2092-48c7-b7d5-0f24a786a338"
      },
      "execution_count": 27,
      "outputs": [
        {
          "output_type": "stream",
          "name": "stdout",
          "text": [
            "{'image': <PIL.JpegImagePlugin.JpegImageFile image mode=RGB size=1024x683 at 0x79E39C1EFCA0>, 'label': 0}\n"
          ]
        }
      ]
    },
    {
      "cell_type": "code",
      "source": [
        "# Convert the Hugging Face dataset to a TensorFlow dataset\n",
        "tf_train_dataset = ds[\"train\"].to_tf_dataset(\n",
        "    columns=[\"image\"],  # Columns of the dataset to use as features\n",
        "    label_cols=\"label\",  # Column to use as the label\n",
        "    shuffle=True,  # Shuffle the data\n",
        "    batch_size=32,  # Batch size\n",
        "    collate_fn=lambda batch: {\n",
        "        \"image\": tf.image.resize(tf.stack([tf.image.resize(item['image'], (224, 224)) for item in batch]), (224, 224)) / 255.0,  # Resize and normalize images\n",
        "        \"label\": tf.convert_to_tensor([item['label'] for item in batch], dtype=tf.int32)  # Process labels\n",
        "    }\n",
        ")\n",
        "\n",
        "tf_val_dataset = ds[\"validation\"].to_tf_dataset(\n",
        "    columns=[\"image\"],\n",
        "    label_cols=\"label\",\n",
        "    shuffle=False,\n",
        "    batch_size=32,\n",
        "    collate_fn=lambda batch: {\n",
        "        \"image\": tf.image.resize(tf.stack([tf.image.resize(item['image'], (224, 224)) for item in batch]), (224, 224)) / 255.0,\n",
        "        \"label\": tf.convert_to_tensor([item['label'] for item in batch], dtype=tf.int32)\n",
        "    }\n",
        ")\n"
      ],
      "metadata": {
        "id": "6JOdMlFu-Gfk"
      },
      "execution_count": 30,
      "outputs": []
    },
    {
      "cell_type": "code",
      "source": [
        "\n",
        "# Train the model\n",
        "history = model.fit(tf_train_dataset, epochs=1, validation_data=tf_val_dataset)\n"
      ],
      "metadata": {
        "colab": {
          "base_uri": "https://localhost:8080/"
        },
        "id": "KRfraVLUBa_n",
        "outputId": "cf42bb3d-d246-43a7-ed83-ba1d178f1e4d"
      },
      "execution_count": 34,
      "outputs": [
        {
          "output_type": "stream",
          "name": "stdout",
          "text": [
            "\u001b[1m791/791\u001b[0m \u001b[32m━━━━━━━━━━━━━━━━━━━━\u001b[0m\u001b[37m\u001b[0m \u001b[1m3085s\u001b[0m 4s/step - accuracy: 0.7390 - loss: 0.8628 - val_accuracy: 0.7349 - val_loss: 0.8571\n"
          ]
        }
      ]
    },
    {
      "cell_type": "code",
      "source": [
        "\n",
        "# Evaluate the model\n",
        "test_loss, test_acc = model.evaluate(tf_val_dataset)\n",
        "print(f\"Test Accuracy: {test_acc * 100:.2f}%\")"
      ],
      "metadata": {
        "colab": {
          "base_uri": "https://localhost:8080/"
        },
        "id": "s841UKyjCIhg",
        "outputId": "a93dc639-8dcb-4c61-f886-8dbac7ea9a79"
      },
      "execution_count": 38,
      "outputs": [
        {
          "output_type": "stream",
          "name": "stdout",
          "text": [
            "\u001b[1m88/88\u001b[0m \u001b[32m━━━━━━━━━━━━━━━━━━━━\u001b[0m\u001b[37m\u001b[0m \u001b[1m120s\u001b[0m 1s/step - accuracy: 0.9567 - loss: 0.3971\n",
            "Test Accuracy: 73.49%\n"
          ]
        }
      ]
    },
    {
      "cell_type": "code",
      "source": [
        "import numpy as np\n",
        "import tensorflow as tf\n",
        "from PIL import Image\n",
        "import requests\n",
        "from io import BytesIO\n",
        "\n",
        "# Function to load and preprocess an image\n",
        "def preprocess_image(image_path):\n",
        "    # Load the image from file or URL\n",
        "    if image_path.startswith('http'):\n",
        "        response = requests.get(image_path)\n",
        "        img = Image.open(BytesIO(response.content))\n",
        "    else:\n",
        "        img = Image.open(image_path)\n",
        "\n",
        "    # Convert the image to RGB, resize to (224, 224), and normalize\n",
        "    img = img.convert('RGB')\n",
        "    img = tf.image.resize(np.array(img), (224, 224))  # Resize image to match the model input\n",
        "    img = img / 255.0  # Normalize the image\n",
        "    img = np.expand_dims(img, axis=0)  # Add batch dimension (1 sample)\n",
        "\n",
        "    return img\n",
        "\n",
        "# Function to predict diabetic retinopathy or not\n",
        "def predict_diabetes(image_path):\n",
        "    # Preprocess the image\n",
        "    img = preprocess_image(image_path)\n",
        "\n",
        "    # Predict using the trained model\n",
        "    predictions = model.predict(img)\n",
        "\n",
        "    # Get the class with the highest probability\n",
        "    predicted_class = np.argmax(predictions)\n",
        "\n",
        "    # Define class labels (Adjust according to your dataset labels)\n",
        "    labels = ['Class 0: No Diabetic Retinopathy',\n",
        "              'Class 1: Mild Diabetic Retinopathy',\n",
        "              'Class 2: Moderate Diabetic Retinopathy',\n",
        "              'Class 3: Severe Diabetic Retinopathy',\n",
        "              'Class 4: Proliferative Diabetic Retinopathy']\n",
        "\n",
        "    # Output the result\n",
        "    print(f\"Predicted Class: {labels[predicted_class]}\")\n",
        "    return predicted_class, predictions[0][predicted_class]\n",
        "\n",
        "# Example usage:\n",
        "image_path = r\"/content/drive/MyDrive/dia.jpg\" # Path to your image or URL\n",
        "predicted_class, confidence = predict_diabetes(image_path)\n",
        "print(f\"Confidence: {confidence * 100:.2f}%\")\n"
      ],
      "metadata": {
        "colab": {
          "base_uri": "https://localhost:8080/"
        },
        "id": "acomFC0ZVzZT",
        "outputId": "0931f20c-13ec-4020-b887-620e8d517058"
      },
      "execution_count": 41,
      "outputs": [
        {
          "output_type": "stream",
          "name": "stdout",
          "text": [
            "\u001b[1m1/1\u001b[0m \u001b[32m━━━━━━━━━━━━━━━━━━━━\u001b[0m\u001b[37m\u001b[0m \u001b[1m0s\u001b[0m 131ms/step\n",
            "Predicted Class: Class 0: No Diabetic Retinopathy\n",
            "Confidence: 72.13%\n"
          ]
        }
      ]
    },
    {
      "cell_type": "code",
      "source": [],
      "metadata": {
        "id": "oa8G_wZ6WRHl"
      },
      "execution_count": null,
      "outputs": []
    }
  ]
}